{
 "cells": [
  {
   "cell_type": "code",
   "execution_count": 2,
   "metadata": {
    "collapsed": true,
    "pycharm": {
     "name": "#%%\n"
    }
   },
   "outputs": [],
   "source": [
    "import pandas as pd\n",
    "import folium\n",
    "import numpy as np"
   ]
  },
  {
   "cell_type": "code",
   "execution_count": 9,
   "outputs": [
    {
     "data": {
      "text/plain": "        id                 region        municipality   settlement type   \n0        0       Республика Алтай   Шебалинский район        Каспа    с  \\\n1        1         Алтайский край          Смоленский     Молочный    п   \n2        2      Красноярский край   Казачинский район      Отношка    с   \n3        3        Республика Тыва  Каа-Хемский кожуун    Кундустуг    с   \n4        4      Красноярский край   Курагинский район    Щетинкино    с   \n...    ...                    ...                 ...          ...  ...   \n6132  6132  Новосибирская область     Сузунский район       Мереть    с   \n6133  6133  Новосибирская область     Сузунский район      Маюрово    с   \n6134  6134         Алтайский край     Быстроистокский   Смоленский    п   \n6135  6135  Новосибирская область   Искитимский район    Малиновка    д   \n6136  6136      Красноярский край   Назаровский район  Старожилово    п   \n\n      latitude_dd  longitude_dd  \n0            5111          8601  \n1            5241          8497  \n2            5738          9270  \n3            5157          9518  \n4            5453          9344  \n...           ...           ...  \n6132         5357          8239  \n6133         5431          8242  \n6134         5221          8466  \n6135         5466          8386  \n6136         5583          9088  \n\n[6137 rows x 7 columns]",
      "text/html": "<div>\n<style scoped>\n    .dataframe tbody tr th:only-of-type {\n        vertical-align: middle;\n    }\n\n    .dataframe tbody tr th {\n        vertical-align: top;\n    }\n\n    .dataframe thead th {\n        text-align: right;\n    }\n</style>\n<table border=\"1\" class=\"dataframe\">\n  <thead>\n    <tr style=\"text-align: right;\">\n      <th></th>\n      <th>id</th>\n      <th>region</th>\n      <th>municipality</th>\n      <th>settlement</th>\n      <th>type</th>\n      <th>latitude_dd</th>\n      <th>longitude_dd</th>\n    </tr>\n  </thead>\n  <tbody>\n    <tr>\n      <th>0</th>\n      <td>0</td>\n      <td>Республика Алтай</td>\n      <td>Шебалинский район</td>\n      <td>Каспа</td>\n      <td>с</td>\n      <td>5111</td>\n      <td>8601</td>\n    </tr>\n    <tr>\n      <th>1</th>\n      <td>1</td>\n      <td>Алтайский край</td>\n      <td>Смоленский</td>\n      <td>Молочный</td>\n      <td>п</td>\n      <td>5241</td>\n      <td>8497</td>\n    </tr>\n    <tr>\n      <th>2</th>\n      <td>2</td>\n      <td>Красноярский край</td>\n      <td>Казачинский район</td>\n      <td>Отношка</td>\n      <td>с</td>\n      <td>5738</td>\n      <td>9270</td>\n    </tr>\n    <tr>\n      <th>3</th>\n      <td>3</td>\n      <td>Республика Тыва</td>\n      <td>Каа-Хемский кожуун</td>\n      <td>Кундустуг</td>\n      <td>с</td>\n      <td>5157</td>\n      <td>9518</td>\n    </tr>\n    <tr>\n      <th>4</th>\n      <td>4</td>\n      <td>Красноярский край</td>\n      <td>Курагинский район</td>\n      <td>Щетинкино</td>\n      <td>с</td>\n      <td>5453</td>\n      <td>9344</td>\n    </tr>\n    <tr>\n      <th>...</th>\n      <td>...</td>\n      <td>...</td>\n      <td>...</td>\n      <td>...</td>\n      <td>...</td>\n      <td>...</td>\n      <td>...</td>\n    </tr>\n    <tr>\n      <th>6132</th>\n      <td>6132</td>\n      <td>Новосибирская область</td>\n      <td>Сузунский район</td>\n      <td>Мереть</td>\n      <td>с</td>\n      <td>5357</td>\n      <td>8239</td>\n    </tr>\n    <tr>\n      <th>6133</th>\n      <td>6133</td>\n      <td>Новосибирская область</td>\n      <td>Сузунский район</td>\n      <td>Маюрово</td>\n      <td>с</td>\n      <td>5431</td>\n      <td>8242</td>\n    </tr>\n    <tr>\n      <th>6134</th>\n      <td>6134</td>\n      <td>Алтайский край</td>\n      <td>Быстроистокский</td>\n      <td>Смоленский</td>\n      <td>п</td>\n      <td>5221</td>\n      <td>8466</td>\n    </tr>\n    <tr>\n      <th>6135</th>\n      <td>6135</td>\n      <td>Новосибирская область</td>\n      <td>Искитимский район</td>\n      <td>Малиновка</td>\n      <td>д</td>\n      <td>5466</td>\n      <td>8386</td>\n    </tr>\n    <tr>\n      <th>6136</th>\n      <td>6136</td>\n      <td>Красноярский край</td>\n      <td>Назаровский район</td>\n      <td>Старожилово</td>\n      <td>п</td>\n      <td>5583</td>\n      <td>9088</td>\n    </tr>\n  </tbody>\n</table>\n<p>6137 rows × 7 columns</p>\n</div>"
     },
     "execution_count": 9,
     "metadata": {},
     "output_type": "execute_result"
    }
   ],
   "source": [
    "df = pd.read_csv('data.csv', delimiter=',')\n",
    "df"
   ],
   "metadata": {
    "collapsed": false,
    "pycharm": {
     "name": "#%%\n"
    }
   }
  },
  {
   "cell_type": "code",
   "execution_count": 10,
   "outputs": [],
   "source": [
    "n = len(df)\n",
    "dist_matrix = np.zeros((n, n))\n",
    "for i in range(n):\n",
    "    for j in range(n):\n",
    "        if i == j:\n",
    "            continue\n",
    "        coords_i = (df.loc[i, 'latitude_dd'], df.loc[i, 'longitude_dd'])\n",
    "        coords_j = (df.loc[j, 'latitude_dd'], df.loc[j, 'longitude_dd'])\n",
    "        dist = np.sqrt(np.sum(np.square(np.array(coords_i) - np.array(coords_j))))\n",
    "        dist_matrix[i, j] = dist\n",
    "np.savetxt('dist_matrix.csv', dist_matrix, delimiter='|', fmt=\"%.4f\")"
   ],
   "metadata": {
    "collapsed": false,
    "pycharm": {
     "name": "#%%\n"
    }
   }
  },
  {
   "cell_type": "code",
   "execution_count": 11,
   "outputs": [],
   "source": [
    "dist_matrix = np.loadtxt('dist_matrix.csv', delimiter='|')\n",
    "dist_submatrix = dist_matrix[:100, :100]\n",
    "np.savetxt('dist_submatrix.csv', dist_submatrix, delimiter='|', fmt=\"%.3f\")"
   ],
   "metadata": {
    "collapsed": false,
    "pycharm": {
     "name": "#%%\n"
    }
   }
  },
  {
   "cell_type": "code",
   "execution_count": 12,
   "outputs": [
    {
     "data": {
      "text/plain": "array([[  0.    , 166.4812, 916.8915, ..., 174.1407, 415.0301, 678.1983],\n       [166.4812,   0.    , 918.9875, ...,  36.8917, 250.8904, 682.8214],\n       [916.8915, 918.9875,   0.    , ..., 955.8792, 924.9   , 239.0586],\n       ...,\n       [174.1407,  36.8917, 955.8792, ...,   0.    , 257.7305, 719.6721],\n       [415.0301, 250.8904, 924.9   , ..., 257.7305,   0.    , 711.6832],\n       [678.1983, 682.8214, 239.0586, ..., 719.6721, 711.6832,   0.    ]])"
     },
     "execution_count": 12,
     "metadata": {},
     "output_type": "execute_result"
    }
   ],
   "source": [
    "dist_matrix"
   ],
   "metadata": {
    "collapsed": false,
    "pycharm": {
     "name": "#%%\n"
    }
   }
  },
  {
   "cell_type": "code",
   "execution_count": 13,
   "outputs": [
    {
     "data": {
      "text/plain": "6137"
     },
     "execution_count": 13,
     "metadata": {},
     "output_type": "execute_result"
    }
   ],
   "source": [
    "matrix = dist_matrix\n",
    "len(matrix)"
   ],
   "metadata": {
    "collapsed": false,
    "pycharm": {
     "name": "#%%\n"
    }
   }
  },
  {
   "cell_type": "code",
   "execution_count": 40,
   "outputs": [],
   "source": [
    "def greedy(matrix, start_vertex=0, way_fp=\"way.csv\"):\n",
    "    n = matrix.shape[0]\n",
    "    visited = np.zeros(n, dtype=bool)\n",
    "    start_vertex_v = start_vertex\n",
    "    edges = np.zeros(n + 1, dtype=int)\n",
    "\n",
    "    for i in range(n):\n",
    "        visited[start_vertex_v] = True\n",
    "        min_distance = np.inf\n",
    "        min_vertex = -1\n",
    "        for j in range(n):\n",
    "            if j != start_vertex_v and not visited[j]:\n",
    "                distance = matrix[start_vertex_v, j]\n",
    "                if distance < min_distance:\n",
    "                    min_distance = distance\n",
    "                    min_vertex = j\n",
    "        edges[i] = start_vertex_v\n",
    "        start_vertex_v = min_vertex\n",
    "    edges[n] = edges[0]\n",
    "    edges = np.array(edges)\n",
    "    np.savetxt(way_fp, edges, fmt=\"%d\")\n",
    "    print(\"Путь сохранен в\", way_fp)\n",
    "    return edges\n",
    "\n",
    "def find_len(matrix, way):\n",
    "    return sum([matrix[way[i]][way[i + 1]] for i in range(0, len(way) - 1)]) / 100\n",
    "\n",
    "def save_to_kaggle(matrix, way):\n",
    "    df = pd.DataFrame(columns=[\"Id\", \"Predicted\"])\n",
    "    for i in range(len(way) - 1):\n",
    "        id1, id2 = way[i], way[i + 1]\n",
    "        dist = matrix[id1][id2] / 100\n",
    "        df.loc[i] = [id1, dist]\n",
    "\n",
    "    df[\"Id\"] = df[\"Id\"].astype(int)\n",
    "    df[\"Predicted\"] = df[\"Predicted\"].astype(float)\n",
    "    df.to_csv(\"to_kaggle.csv\", index=False, sep=\",\")\n"
   ],
   "metadata": {
    "collapsed": false,
    "pycharm": {
     "name": "#%%\n"
    }
   }
  },
  {
   "cell_type": "code",
   "execution_count": 42,
   "outputs": [
    {
     "name": "stdout",
     "output_type": "stream",
     "text": [
      "Путь сохранен в way.csv\n",
      "1074.3789600000018\n"
     ]
    }
   ],
   "source": [
    "way = greedy(dist_matrix, start_vertex=3753, way_fp=\"way.csv\")\n",
    "print(find_len(dist_matrix, way))"
   ],
   "metadata": {
    "collapsed": false,
    "pycharm": {
     "name": "#%%\n"
    }
   }
  },
  {
   "cell_type": "code",
   "execution_count": 43,
   "outputs": [
    {
     "name": "stdout",
     "output_type": "stream",
     "text": [
      "После улучшения: 892.1282730000011\n"
     ]
    }
   ],
   "source": [
    "loaded_way = np.loadtxt(\"best_way.csv\", dtype=int)\n",
    "print(f\"После улучшения: {find_len(dist_matrix, loaded_way)}\")"
   ],
   "metadata": {
    "collapsed": false,
    "pycharm": {
     "name": "#%%\n"
    }
   }
  },
  {
   "cell_type": "code",
   "execution_count": null,
   "outputs": [],
   "source": [
    "save_to_kaggle(dist_matrix, loaded_way)"
   ],
   "metadata": {
    "collapsed": false,
    "pycharm": {
     "name": "#%%\n"
    }
   }
  }
 ],
 "metadata": {
  "kernelspec": {
   "display_name": "Python 3",
   "language": "python",
   "name": "python3"
  },
  "language_info": {
   "codemirror_mode": {
    "name": "ipython",
    "version": 2
   },
   "file_extension": ".py",
   "mimetype": "text/x-python",
   "name": "python",
   "nbconvert_exporter": "python",
   "pygments_lexer": "ipython2",
   "version": "2.7.6"
  }
 },
 "nbformat": 4,
 "nbformat_minor": 0
}